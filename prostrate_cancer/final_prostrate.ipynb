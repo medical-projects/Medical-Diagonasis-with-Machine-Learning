{
  "nbformat": 4,
  "nbformat_minor": 0,
  "metadata": {
    "colab": {
      "name": "final_prostrate",
      "provenance": [],
      "collapsed_sections": []
    },
    "kernelspec": {
      "name": "python3",
      "display_name": "Python 3"
    },
    "accelerator": "GPU"
  },
  "cells": [
    {
      "cell_type": "code",
      "metadata": {
        "id": "vjwgdT7q1VwQ",
        "colab_type": "code",
        "colab": {}
      },
      "source": [
        "import cv2\n",
        "import pickle\n",
        "import numpy as np\n",
        "import pandas as pd\n",
        "import matplotlib.pyplot as plt"
      ],
      "execution_count": 0,
      "outputs": []
    },
    {
      "cell_type": "code",
      "metadata": {
        "id": "IXCGtXnQIDn0",
        "colab_type": "code",
        "outputId": "72e52536-5c81-4497-df46-6774c1c59379",
        "colab": {
          "base_uri": "https://localhost:8080/",
          "height": 34
        }
      },
      "source": [
        "from google.colab import drive\n",
        "drive.mount('/content/drive')"
      ],
      "execution_count": 0,
      "outputs": [
        {
          "output_type": "stream",
          "text": [
            "Drive already mounted at /content/drive; to attempt to forcibly remount, call drive.mount(\"/content/drive\", force_remount=True).\n"
          ],
          "name": "stdout"
        }
      ]
    },
    {
      "cell_type": "code",
      "metadata": {
        "id": "zFoX34lCIEgv",
        "colab_type": "code",
        "colab": {}
      },
      "source": [
        "img_path='/content/drive/My Drive/prostrate_cancer/cropped/'\n",
        "coords_path='/content/drive/My Drive/prostrate_cancer/coords.pkl'\n",
        "labels_path='/content/drive/My Drive/prostrate_cancer/labels.pkl'"
      ],
      "execution_count": 0,
      "outputs": []
    },
    {
      "cell_type": "code",
      "metadata": {
        "id": "hi5rOP51Ii-U",
        "colab_type": "code",
        "colab": {}
      },
      "source": [
        "images=[]\n",
        "for i in range(112):\n",
        "    img=cv2.imread(img_path+\"{}.png\".format(i))\n",
        "    img=cv2.cvtColor(img,cv2.COLOR_BGR2GRAY)\n",
        "    images.append(img)"
      ],
      "execution_count": 0,
      "outputs": []
    },
    {
      "cell_type": "code",
      "metadata": {
        "id": "L7OXG1ibIpZM",
        "colab_type": "code",
        "colab": {}
      },
      "source": [
        "f=open(coords_path,'rb')\n",
        "coords=pickle.load(f)\n",
        "f.close()"
      ],
      "execution_count": 0,
      "outputs": []
    },
    {
      "cell_type": "code",
      "metadata": {
        "id": "OUtbqoc6IvV2",
        "colab_type": "code",
        "colab": {}
      },
      "source": [
        "f=open(labels_path,'rb')\n",
        "labels=pickle.load(f)\n",
        "f.close()"
      ],
      "execution_count": 0,
      "outputs": []
    },
    {
      "cell_type": "code",
      "metadata": {
        "id": "kw6fgTL4KCHQ",
        "colab_type": "code",
        "colab": {}
      },
      "source": [
        "##image loading and data loading done\n",
        "size=25\n",
        "s=set()\n",
        "target_images=[]\n",
        "target_labels=[]"
      ],
      "execution_count": 0,
      "outputs": []
    },
    {
      "cell_type": "code",
      "metadata": {
        "id": "WoF4rkmNKQ7N",
        "colab_type": "code",
        "colab": {}
      },
      "source": [
        "for j in range(112):\n",
        "    img=images[j]\n",
        "    if type(coords[j])==type([1,2,3]):\n",
        "        x,y,_=coords[j][0]\n",
        "    else:\n",
        "        x,y,_=coords[j]\n",
        "\n",
        "    roi=img[x-size:x+size,y-size:y+size]\n",
        "    target_images.append(roi)"
      ],
      "execution_count": 0,
      "outputs": []
    },
    {
      "cell_type": "code",
      "metadata": {
        "id": "i_ug55XZRuiZ",
        "colab_type": "code",
        "outputId": "dce72df5-7d9e-4bd6-910d-199a24be1ed5",
        "colab": {
          "base_uri": "https://localhost:8080/",
          "height": 284
        }
      },
      "source": [
        "plt.imshow(target_images[0])"
      ],
      "execution_count": 0,
      "outputs": [
        {
          "output_type": "execute_result",
          "data": {
            "text/plain": [
              "<matplotlib.image.AxesImage at 0x7fc8d6068550>"
            ]
          },
          "metadata": {
            "tags": []
          },
          "execution_count": 235
        },
        {
          "output_type": "display_data",
          "data": {
            "image/png": "[encoded data removed]",
            "text/plain": [
              "<Figure size 432x288 with 1 Axes>"
            ]
          },
          "metadata": {
            "tags": []
          }
        }
      ]
    },
    {
      "cell_type": "code",
      "metadata": {
        "id": "5KEklEfzWfDp",
        "colab_type": "code",
        "outputId": "f8cba7a5-b447-449a-d4ba-1ea38ddd9cb3",
        "colab": {
          "base_uri": "https://localhost:8080/",
          "height": 34
        }
      },
      "source": [
        "len(target_images)\n",
        "target_images[0].shape"
      ],
      "execution_count": 0,
      "outputs": [
        {
          "output_type": "execute_result",
          "data": {
            "text/plain": [
              "(50, 50)"
            ]
          },
          "metadata": {
            "tags": []
          },
          "execution_count": 236
        }
      ]
    },
    {
      "cell_type": "code",
      "metadata": {
        "id": "vpcGbA7MM8rb",
        "colab_type": "code",
        "colab": {}
      },
      "source": [
        "#data processing\n",
        "target_images=np.array(target_images)"
      ],
      "execution_count": 0,
      "outputs": []
    },
    {
      "cell_type": "code",
      "metadata": {
        "id": "_2ykiDDvNPye",
        "colab_type": "code",
        "colab": {}
      },
      "source": [
        "thresh_value=2\n",
        "for i in range(len(labels)):\n",
        "  if labels[i]<thresh_value:\n",
        "    target_labels.append(0)\n",
        "  else:\n",
        "    target_labels.append(1)"
      ],
      "execution_count": 0,
      "outputs": []
    },
    {
      "cell_type": "code",
      "metadata": {
        "id": "BjnvRMmUN1fS",
        "colab_type": "code",
        "outputId": "68166f10-6679-43c8-ddd5-0c2fbc97122e",
        "colab": {
          "base_uri": "https://localhost:8080/",
          "height": 67
        }
      },
      "source": [
        "pd.Series(target_labels).value_counts()"
      ],
      "execution_count": 0,
      "outputs": [
        {
          "output_type": "execute_result",
          "data": {
            "text/plain": [
              "1    76\n",
              "0    36\n",
              "dtype: int64"
            ]
          },
          "metadata": {
            "tags": []
          },
          "execution_count": 239
        }
      ]
    },
    {
      "cell_type": "code",
      "metadata": {
        "id": "mPWpPWS9ON5A",
        "colab_type": "code",
        "colab": {}
      },
      "source": [
        "X=np.array(target_images)\n",
        "Y=np.array(target_labels)\n",
        "\n",
        "X=X.reshape(112,50,50,1)"
      ],
      "execution_count": 0,
      "outputs": []
    },
    {
      "cell_type": "code",
      "metadata": {
        "id": "8ht2rWpMP9ZU",
        "colab_type": "code",
        "colab": {}
      },
      "source": [
        "from sklearn.model_selection import train_test_split\n",
        "xtr,xte,ytr,yte=train_test_split(X,Y,test_size=0.2)"
      ],
      "execution_count": 0,
      "outputs": []
    },
    {
      "cell_type": "code",
      "metadata": {
        "id": "-jLPUIpyONsS",
        "colab_type": "code",
        "colab": {}
      },
      "source": [
        "xtr=xtr/255.0\n",
        "xte=xte/255.0\n",
        "from keras.utils import to_categorical\n",
        "ytr=to_categorical(ytr)\n",
        "yte=to_categorical(yte)"
      ],
      "execution_count": 0,
      "outputs": []
    },
    {
      "cell_type": "code",
      "metadata": {
        "id": "MNKOPegsPoUm",
        "colab_type": "code",
        "outputId": "e370fca3-7c76-46e5-c111-c3a2d0fafb39",
        "colab": {
          "base_uri": "https://localhost:8080/",
          "height": 34
        }
      },
      "source": [
        "ytr.shape,xtr.shape"
      ],
      "execution_count": 0,
      "outputs": [
        {
          "output_type": "execute_result",
          "data": {
            "text/plain": [
              "((89, 2), (89, 50, 50, 1))"
            ]
          },
          "metadata": {
            "tags": []
          },
          "execution_count": 243
        }
      ]
    },
    {
      "cell_type": "code",
      "metadata": {
        "id": "7Rd6SkstObeY",
        "colab_type": "code",
        "colab": {}
      },
      "source": [
        "from keras.models import Sequential\n",
        "from keras.layers import Conv2D,Dense,Flatten,MaxPool2D\n",
        "\n",
        "model=Sequential()\n",
        "\n",
        "model.add(Conv2D(64,input_shape=(2*size,2*size,1),kernel_size=1,activation='relu'))\n",
        "model.add(MaxPool2D(pool_size=(2,2),strides=1))\n",
        "\n",
        "\"\"\"model.add(Conv2D(32,kernel_size=3,activation='relu'))\n",
        "model.add(MaxPool2D(pool_size=(2,2),strides=2))\n",
        "\n",
        "model.add(Conv2D(64,kernel_size=3,activation='relu'))\n",
        "model.add(MaxPool2D(pool_size=(2,2),strides=2))\"\"\"\n",
        "\n",
        "model.add(Conv2D(128,kernel_size=3,activation='relu'))\n",
        "model.add(MaxPool2D(pool_size=(2,2),strides=1))\n",
        "\n",
        "#model.add(Conv2D(256,kernel_size=1,activation='tanh'))             ##new layer\n",
        "\n",
        "model.add(Flatten())\n",
        "model.add(Dense(20,activation='relu'))\n",
        "#model.add(Dense(10,activation='relu'))\n",
        "#model.add(Dense(10,activation='relu'))\n",
        "model.add(Dense(10,activation='relu'))\n",
        "model.add(Dense(2,activation='softmax'))"
      ],
      "execution_count": 0,
      "outputs": []
    },
    {
      "cell_type": "code",
      "metadata": {
        "id": "JizKvN50OmJR",
        "colab_type": "code",
        "outputId": "3617f715-1a7d-43fb-e86e-efbbdd6fcfbc",
        "colab": {
          "base_uri": "https://localhost:8080/",
          "height": 50
        }
      },
      "source": [
        "model.compile(loss='categorical_crossentropy',optimizer='adam',metrics=['accuracy'])\n",
        "model.fit(xtr,ytr,epochs=10,validation_data=(xte,yte))"
      ],
      "execution_count": 0,
      "outputs": [
        {
          "output_type": "stream",
          "text": [
            "Train on 89 samples, validate on 23 samples\n",
            "Epoch 1/10\n"
          ],
          "name": "stdout"
        }
      ]
    },
    {
      "cell_type": "code",
      "metadata": {
        "id": "9Fv9_gzsOxMH",
        "colab_type": "code",
        "colab": {}
      },
      "source": [
        "from keras.models import load_model\n",
        "model.save('/content/drive/My Drive/prostrate_cancer/model.h5')"
      ],
      "execution_count": 0,
      "outputs": []
    },
    {
      "cell_type": "code",
      "metadata": {
        "id": "bJXoG5eTQsmM",
        "colab_type": "code",
        "colab": {}
      },
      "source": [
        ""
      ],
      "execution_count": 0,
      "outputs": []
    }
  ]
}