{
  "nbformat": 4,
  "nbformat_minor": 0,
  "metadata": {
    "colab": {
      "name": "Untitled13.ipynb",
      "provenance": [],
      "collapsed_sections": []
    },
    "kernelspec": {
      "name": "python3",
      "display_name": "Python 3"
    }
  },
  "cells": [
    {
      "cell_type": "code",
      "metadata": {
        "id": "4i0AuTav-Ood",
        "colab_type": "code",
        "colab": {}
      },
      "source": [
        "import os,cv2\n",
        "import numpy as np\n",
        "import matplotlib.pyplot as plt"
      ],
      "execution_count": 0,
      "outputs": []
    },
    {
      "cell_type": "code",
      "metadata": {
        "id": "HIZVlQ3h-YXz",
        "colab_type": "code",
        "colab": {}
      },
      "source": [
        "from sklearn.metrics import silhouette_score\n",
        "from sklearn.cluster import KMeans\n",
        "from scipy.spatial import distance"
      ],
      "execution_count": 0,
      "outputs": []
    },
    {
      "cell_type": "code",
      "metadata": {
        "id": "fWapQhP_-YWV",
        "colab_type": "code",
        "colab": {}
      },
      "source": [
        "def find_sil(X):\n",
        "  silhouette=[]\n",
        "  if len(X)>2:\n",
        "    for i in range(2,len(X)):\n",
        "      obj=KMeans(n_clusters=i,init='k-means++',n_init=10,max_iter=300,random_state=0)\n",
        "      pred=obj.fit_predict(X)\n",
        "      silhouette.append(silhouette_score(X,pred)) \n",
        "    n_cls=silhouette.index(max(silhouette)) +3\n",
        "  elif len(X)==2:\n",
        "    if distance.euclidean(X[0],X[1])>30:\n",
        "      n_cls=2\n",
        "    else:\n",
        "      n_cls=1\n",
        "  else:\n",
        "    n_cls=1\n",
        "  return n_cls"
      ],
      "execution_count": 0,
      "outputs": []
    },
    {
      "cell_type": "code",
      "metadata": {
        "id": "mEsk621z-YSO",
        "colab_type": "code",
        "colab": {}
      },
      "source": [
        "def plotter(silhouette):\n",
        "    plt.plot(range(2,2+len(silhouette)),silhouette,marker='o')\n",
        "    plt.xlabel('n_clusters')\n",
        "    plt.ylabel('silhouette score')\n",
        "    plt.show()\n",
        "\n",
        "    #print(\"Cannot Label Adil bhai!\")"
      ],
      "execution_count": 0,
      "outputs": []
    },
    {
      "cell_type": "code",
      "metadata": {
        "id": "Snx0jH1C0KEF",
        "colab_type": "code",
        "colab": {}
      },
      "source": [
        "silh=find_sil(X)\n",
        "#plotter(silh)"
      ],
      "execution_count": 0,
      "outputs": []
    },
    {
      "cell_type": "code",
      "metadata": {
        "id": "LSyPQfFU-YPj",
        "colab_type": "code",
        "colab": {}
      },
      "source": [
        "files='/content/drive/My Drive/retino_upload/points.pkl'\n",
        "import pickle\n",
        "\n",
        "f=open(files,'rb')\n",
        "target=pickle.load(f)\n",
        "print(len(target))\n"
      ],
      "execution_count": 0,
      "outputs": []
    },
    {
      "cell_type": "code",
      "metadata": {
        "id": "lY3sK818-YNw",
        "colab_type": "code",
        "colab": {}
      },
      "source": [
        "clusters=[]\n",
        "for i in range(len(target)):  \n",
        "  X=list(target[i])\n",
        "  silh=find_sil(X)\n",
        "  clusters.append(silh)"
      ],
      "execution_count": 0,
      "outputs": []
    },
    {
      "cell_type": "code",
      "metadata": {
        "id": "Ks7F7Jgk-YKT",
        "colab_type": "code",
        "outputId": "2644af6e-7580-47d2-d17d-96274b4ef905",
        "colab": {
          "base_uri": "https://localhost:8080/",
          "height": 151
        }
      },
      "source": [
        "import pandas as pd\n",
        "\n",
        "pd.Series(clusters).value_counts()"
      ],
      "execution_count": 0,
      "outputs": [
        {
          "output_type": "execute_result",
          "data": {
            "text/plain": [
              "2     49\n",
              "3     38\n",
              "1     25\n",
              "4     10\n",
              "7      4\n",
              "5      3\n",
              "11     1\n",
              "dtype: int64"
            ]
          },
          "metadata": {
            "tags": []
          },
          "execution_count": 213
        }
      ]
    },
    {
      "cell_type": "markdown",
      "metadata": {
        "id": "TSSgB9Op7Q42",
        "colab_type": "text"
      },
      "source": [
        "All the images with number of clusters more than 1 are sure to have some problem(most probably diabetic retinopathy).So, we will mmake two classes, one with 1 cluster(healthy eye) and other with more than one(diabetic  eye)."
      ]
    },
    {
      "cell_type": "code",
      "metadata": {
        "id": "F3r8h9o3-YIc",
        "colab_type": "code",
        "colab": {}
      },
      "source": [
        "labels=[]\n",
        "for cluster in clusters:\n",
        "  if cluster==1:\n",
        "    labels.append(0)\n",
        "  else:\n",
        "    labels.append(1)"
      ],
      "execution_count": 0,
      "outputs": []
    },
    {
      "cell_type": "code",
      "metadata": {
        "id": "3pym2OD6-YE7",
        "colab_type": "code",
        "outputId": "8c58141c-466a-4666-b2cc-774ed40c8aa6",
        "colab": {
          "base_uri": "https://localhost:8080/",
          "height": 67
        }
      },
      "source": [
        "pd.Series(labels).value_counts()"
      ],
      "execution_count": 0,
      "outputs": [
        {
          "output_type": "execute_result",
          "data": {
            "text/plain": [
              "1    105\n",
              "0     25\n",
              "dtype: int64"
            ]
          },
          "metadata": {
            "tags": []
          },
          "execution_count": 219
        }
      ]
    },
    {
      "cell_type": "markdown",
      "metadata": {
        "id": "t-8b3Pig9crQ",
        "colab_type": "text"
      },
      "source": [
        "**Algorithm**\n",
        "\n",
        "1). Getting Image and applying gamma reductions and bitwise filtering       to get only the possible bright spots.\n",
        "\n",
        "2). Keep on repeating step (1) 2-3 times.\n",
        "\n",
        "3). Find all the contours using imutils and findContours().\n",
        "\n",
        "4). Find only the brightest spot and highlight them using drawing           rectangle and taking thresholds.\n",
        "\n",
        "5). Find optimal number of clusters using *silhouette_score* and *K-Means*.\n",
        "\n",
        "6). **if number of clusters are less than or equal to 1 => Normal Eye**\n",
        "**if number of clusters are greater than 1 => Diabetic Eye**"
      ]
    },
    {
      "cell_type": "code",
      "metadata": {
        "id": "ZN-9S2F-_5QI",
        "colab_type": "code",
        "colab": {}
      },
      "source": [
        ""
      ],
      "execution_count": 0,
      "outputs": []
    }
  ]
}